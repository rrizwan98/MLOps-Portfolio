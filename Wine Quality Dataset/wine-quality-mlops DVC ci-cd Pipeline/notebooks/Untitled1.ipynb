{
 "cells": [
  {
   "cell_type": "code",
   "execution_count": 17,
   "id": "684dc99e-0540-4d84-9dd9-6fa489d47420",
   "metadata": {},
   "outputs": [
    {
     "ename": "TypeError",
     "evalue": "object of type 'int' has no len()",
     "output_type": "error",
     "traceback": [
      "\u001b[1;31m---------------------------------------------------------------------------\u001b[0m",
      "\u001b[1;31mTypeError\u001b[0m                                 Traceback (most recent call last)",
      "Input \u001b[1;32mIn [17]\u001b[0m, in \u001b[0;36m<cell line: 65>\u001b[1;34m()\u001b[0m\n\u001b[0;32m     39\u001b[0m         mv \u001b[38;5;241m=\u001b[39m \u001b[38;5;28mdict\u001b[39m(mv)\n\u001b[0;32m     41\u001b[0m         \u001b[38;5;66;03m# if mv[\"run_id\"] == lowest_run_id:\u001b[39;00m\n\u001b[0;32m     42\u001b[0m         \u001b[38;5;66;03m#     current_version = mv[\"version\"]\u001b[39;00m\n\u001b[0;32m     43\u001b[0m         \u001b[38;5;66;03m#     logged_model = mv[\"source\"]\u001b[39;00m\n\u001b[1;32m   (...)\u001b[0m\n\u001b[0;32m     62\u001b[0m \n\u001b[0;32m     63\u001b[0m \u001b[38;5;66;03m#     joblib.dump(loaded_model, model_path)\u001b[39;00m\n\u001b[1;32m---> 65\u001b[0m \u001b[43mlog_production_model\u001b[49m\u001b[43m(\u001b[49m\u001b[38;5;124;43m\"\u001b[39;49m\u001b[38;5;124;43mparams.yaml\u001b[39;49m\u001b[38;5;124;43m\"\u001b[39;49m\u001b[43m)\u001b[49m\n\u001b[0;32m     66\u001b[0m read_params(\u001b[38;5;124m\"\u001b[39m\u001b[38;5;124mparams.yaml\u001b[39m\u001b[38;5;124m\"\u001b[39m)\n",
      "Input \u001b[1;32mIn [17]\u001b[0m, in \u001b[0;36mlog_production_model\u001b[1;34m(config_path)\u001b[0m\n\u001b[0;32m     27\u001b[0m remote_server_uri \u001b[38;5;241m=\u001b[39m mlflow_config[\u001b[38;5;124m\"\u001b[39m\u001b[38;5;124mremote_server_uri\u001b[39m\u001b[38;5;124m\"\u001b[39m]\n\u001b[0;32m     29\u001b[0m mlflow\u001b[38;5;241m.\u001b[39mset_tracking_uri(remote_server_uri)\n\u001b[1;32m---> 32\u001b[0m runs \u001b[38;5;241m=\u001b[39m \u001b[43mmlflow\u001b[49m\u001b[38;5;241;43m.\u001b[39;49m\u001b[43msearch_runs\u001b[49m\u001b[43m(\u001b[49m\u001b[43mexperiment_ids\u001b[49m\u001b[38;5;241;43m=\u001b[39;49m\u001b[38;5;241;43m1\u001b[39;49m\u001b[43m)\u001b[49m\n\u001b[0;32m     33\u001b[0m lowest \u001b[38;5;241m=\u001b[39m runs[\u001b[38;5;124m\"\u001b[39m\u001b[38;5;124mmetrics.mae\u001b[39m\u001b[38;5;124m\"\u001b[39m]\u001b[38;5;241m.\u001b[39msort_values(ascending\u001b[38;5;241m=\u001b[39m\u001b[38;5;28;01mTrue\u001b[39;00m)[\u001b[38;5;241m0\u001b[39m]\n\u001b[0;32m     34\u001b[0m lowest_run_id \u001b[38;5;241m=\u001b[39m runs[runs[\u001b[38;5;124m\"\u001b[39m\u001b[38;5;124mmetrics.mae\u001b[39m\u001b[38;5;124m\"\u001b[39m] \u001b[38;5;241m==\u001b[39m lowest][\u001b[38;5;124m\"\u001b[39m\u001b[38;5;124mrun_id\u001b[39m\u001b[38;5;124m\"\u001b[39m][\u001b[38;5;241m0\u001b[39m]\n",
      "File \u001b[1;32mE:\\Anaconda\\envs\\wineq\\lib\\site-packages\\mlflow\\tracking\\fluent.py:1224\u001b[0m, in \u001b[0;36msearch_runs\u001b[1;34m(experiment_ids, filter_string, run_view_type, max_results, order_by, output_format, search_all_experiments, experiment_names)\u001b[0m\n\u001b[0;32m   1135\u001b[0m \u001b[38;5;28;01mdef\u001b[39;00m \u001b[38;5;21msearch_runs\u001b[39m(\n\u001b[0;32m   1136\u001b[0m     experiment_ids: Optional[List[\u001b[38;5;28mstr\u001b[39m]] \u001b[38;5;241m=\u001b[39m \u001b[38;5;28;01mNone\u001b[39;00m,\n\u001b[0;32m   1137\u001b[0m     filter_string: \u001b[38;5;28mstr\u001b[39m \u001b[38;5;241m=\u001b[39m \u001b[38;5;124m\"\u001b[39m\u001b[38;5;124m\"\u001b[39m,\n\u001b[1;32m   (...)\u001b[0m\n\u001b[0;32m   1143\u001b[0m     experiment_names: Optional[List[\u001b[38;5;28mstr\u001b[39m]] \u001b[38;5;241m=\u001b[39m \u001b[38;5;28;01mNone\u001b[39;00m,\n\u001b[0;32m   1144\u001b[0m ) \u001b[38;5;241m-\u001b[39m\u001b[38;5;241m>\u001b[39m Union[List[Run], \u001b[38;5;124m\"\u001b[39m\u001b[38;5;124mpandas.DataFrame\u001b[39m\u001b[38;5;124m\"\u001b[39m]:\n\u001b[0;32m   1145\u001b[0m     \u001b[38;5;124;03m\"\"\"\u001b[39;00m\n\u001b[0;32m   1146\u001b[0m \u001b[38;5;124;03m    Get a pandas DataFrame of runs that fit the search criteria.\u001b[39;00m\n\u001b[0;32m   1147\u001b[0m \n\u001b[1;32m   (...)\u001b[0m\n\u001b[0;32m   1222\u001b[0m \u001b[38;5;124;03m        1       1.55       1.1.0-RC  5cc7feaf532f496f885ad7750809c4d4\u001b[39;00m\n\u001b[0;32m   1223\u001b[0m \u001b[38;5;124;03m    \"\"\"\u001b[39;00m\n\u001b[1;32m-> 1224\u001b[0m     no_ids \u001b[38;5;241m=\u001b[39m experiment_ids \u001b[38;5;129;01mis\u001b[39;00m \u001b[38;5;28;01mNone\u001b[39;00m \u001b[38;5;129;01mor\u001b[39;00m \u001b[38;5;28;43mlen\u001b[39;49m\u001b[43m(\u001b[49m\u001b[43mexperiment_ids\u001b[49m\u001b[43m)\u001b[49m \u001b[38;5;241m==\u001b[39m \u001b[38;5;241m0\u001b[39m\n\u001b[0;32m   1225\u001b[0m     no_names \u001b[38;5;241m=\u001b[39m experiment_names \u001b[38;5;129;01mis\u001b[39;00m \u001b[38;5;28;01mNone\u001b[39;00m \u001b[38;5;129;01mor\u001b[39;00m \u001b[38;5;28mlen\u001b[39m(experiment_names) \u001b[38;5;241m==\u001b[39m \u001b[38;5;241m0\u001b[39m\n\u001b[0;32m   1226\u001b[0m     no_ids_or_names \u001b[38;5;241m=\u001b[39m no_ids \u001b[38;5;129;01mand\u001b[39;00m no_names\n",
      "\u001b[1;31mTypeError\u001b[0m: object of type 'int' has no len()"
     ]
    }
   ],
   "source": [
    "# from src.get_data import read_params\n",
    "import argparse\n",
    "import mlflow\n",
    "from mlflow.tracking import MlflowClient\n",
    "from pprint import pprint\n",
    "import joblib\n",
    "import os\n",
    "import yaml\n",
    "\n",
    "os.chdir('E:\\\\raza mlops')\n",
    "\n",
    "def read_params(config_path):\n",
    "    with open(config_path) as yaml_file:\n",
    "        config=yaml.safe_load(yaml_file)\n",
    "    return config\n",
    "\n",
    "def log_production_model(config_path):\n",
    "    config = read_params(config_path)\n",
    "    \n",
    "    \n",
    "    mlflow_config = config[\"mlflow_config\"] \n",
    "    \n",
    "\n",
    "    model_name = mlflow_config[\"registered_model_name\"]\n",
    "\n",
    "\n",
    "    remote_server_uri = mlflow_config[\"remote_server_uri\"]\n",
    "\n",
    "    mlflow.set_tracking_uri(remote_server_uri)\n",
    "    \n",
    "    \n",
    "    runs = mlflow.search_runs(experiment_ids=1)\n",
    "    lowest = runs[\"metrics.mae\"].sort_values(ascending=True)[0]\n",
    "    lowest_run_id = runs[runs[\"metrics.mae\"] == lowest][\"run_id\"][0]\n",
    "    \n",
    "\n",
    "    client = MlflowClient()\n",
    "    for mv in client.search_model_versions(f\"name='{model_name}'\"):\n",
    "        mv = dict(mv)\n",
    "        \n",
    "        # if mv[\"run_id\"] == lowest_run_id:\n",
    "        #     current_version = mv[\"version\"]\n",
    "        #     logged_model = mv[\"source\"]\n",
    "        #     pprint(mv, indent=4)\n",
    "        #     client.transition_model_version_stage(\n",
    "        #         name=model_name,\n",
    "        #         version=current_version,\n",
    "        #         stage=\"Production\"\n",
    "        #     )\n",
    "        # else:\n",
    "        #     current_version = mv[\"version\"]\n",
    "        #     client.transition_model_version_stage(\n",
    "        #         name=model_name,\n",
    "        #         version=current_version,\n",
    "        #         stage=\"Staging\"\n",
    "        #     )        \n",
    "\n",
    "\n",
    "#     loaded_model = mlflow.pyfunc.load_model(logged_model)\n",
    "    \n",
    "#     model_path = config[\"webapp_model_dir\"] #\"prediction_service/model\"\n",
    "\n",
    "#     joblib.dump(loaded_model, model_path)\n",
    "\n",
    "log_production_model(\"params.yaml\")\n",
    "read_params(\"params.yaml\")"
   ]
  },
  {
   "cell_type": "code",
   "execution_count": 6,
   "id": "9809015f-3c16-4934-81cf-72df2cb65413",
   "metadata": {},
   "outputs": [
    {
     "data": {
      "text/plain": [
       "'E:\\\\raza mlops\\\\notebooks'"
      ]
     },
     "execution_count": 6,
     "metadata": {},
     "output_type": "execute_result"
    }
   ],
   "source": [
    "pwd"
   ]
  },
  {
   "cell_type": "code",
   "execution_count": null,
   "id": "f384bb68-a0ba-48ca-a731-c9ba4afb6a44",
   "metadata": {},
   "outputs": [],
   "source": []
  }
 ],
 "metadata": {
  "kernelspec": {
   "display_name": "Python 3 (ipykernel)",
   "language": "python",
   "name": "python3"
  },
  "language_info": {
   "codemirror_mode": {
    "name": "ipython",
    "version": 3
   },
   "file_extension": ".py",
   "mimetype": "text/x-python",
   "name": "python",
   "nbconvert_exporter": "python",
   "pygments_lexer": "ipython3",
   "version": "3.9.7"
  }
 },
 "nbformat": 4,
 "nbformat_minor": 5
}
